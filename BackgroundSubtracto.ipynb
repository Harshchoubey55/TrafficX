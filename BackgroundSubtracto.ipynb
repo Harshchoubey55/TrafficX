{
 "cells": [
  {
   "cell_type": "code",
   "execution_count": 1,
   "id": "79a87c01-f112-4481-8eed-ece99d2ac24b",
   "metadata": {},
   "outputs": [],
   "source": [
    "#---------------------------------------------------IMPORTING LIBRARIES-------------------------------------------------------------------------------\n",
    "import cv2\n",
    "import numpy as np"
   ]
  },
  {
   "cell_type": "code",
   "execution_count": 2,
   "id": "f9ab5780-9950-471b-8459-20836397dba9",
   "metadata": {},
   "outputs": [],
   "source": [
    "#---------------------------------------------------------------------------------------------------------------------------------\n",
    "cap=cv2.VideoCapture(r\"C:\\Users\\SAGNIK\\Desktop\\PBL\\Traffic\\video.mp4\")\n",
    "\n",
    "#Intialize Subtractor\n",
    "algo=cv2.bgsegm.createBackgroundSubtractorMOG()\n",
    "\n",
    "while(True):\n",
    "    ret,frame1=cap.read()\n",
    "    grey=cv2.cvtColor(frame1, cv2.COLOR_BGR2GRAY)\n",
    "    blur=cv2.GaussianBlur(grey,(3,3),5)\n",
    "    #applying on each frame\n",
    "    img_sub=algo.apply(blur)\n",
    "    dilat=cv2.dilate(img_sub,np.ones((5,5)))\n",
    "    kernel=cv2.getStructuringElement(cv2.MORPH_ELLIPSE,(5,5))\n",
    "    dilatada=cv2.morphologyEx(dilat,cv2.MORPH_CLOSE,kernel)\n",
    "    dilatada=cv2.morphologyEx(dilatada,cv2.MORPH_CLOSE,kernel)\n",
    "    counterShape=cv2.findContours(dilatada,cv2.RETR_TREE,cv2.CHAIN_APPROX_SIMPLE)\n",
    "\n",
    "    cv2.imshow(\"DECTECTOR\",dilatada)\n",
    "\n",
    "    if cv2.waitKey(1) & 0xFF == ord('q'):\n",
    "        break\n",
    "\n",
    "cv2.destroyAllWindows()\n",
    "cap.release()"
   ]
  },
  {
   "cell_type": "code",
   "execution_count": null,
   "id": "996f8438-6b05-42fa-a073-ece10c008396",
   "metadata": {},
   "outputs": [],
   "source": []
  }
 ],
 "metadata": {
  "kernelspec": {
   "display_name": "Python 3 (ipykernel)",
   "language": "python",
   "name": "python3"
  },
  "language_info": {
   "codemirror_mode": {
    "name": "ipython",
    "version": 3
   },
   "file_extension": ".py",
   "mimetype": "text/x-python",
   "name": "python",
   "nbconvert_exporter": "python",
   "pygments_lexer": "ipython3",
   "version": "3.11.4"
  }
 },
 "nbformat": 4,
 "nbformat_minor": 5
}
