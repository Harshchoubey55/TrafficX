{
 "cells": [
  {
   "cell_type": "code",
   "execution_count": 1,
   "id": "8c87b80f-3113-48ea-a969-eeac64a1f694",
   "metadata": {},
   "outputs": [
    {
     "ename": "error",
     "evalue": "OpenCV(4.8.0) D:\\a\\opencv-python\\opencv-python\\opencv\\modules\\imgproc\\src\\resize.cpp:4062: error: (-215:Assertion failed) !ssize.empty() in function 'cv::resize'\n",
     "output_type": "error",
     "traceback": [
      "\u001b[1;31m---------------------------------------------------------------------------\u001b[0m",
      "\u001b[1;31merror\u001b[0m                                     Traceback (most recent call last)",
      "Cell \u001b[1;32mIn[1], line 10\u001b[0m\n\u001b[0;32m      8\u001b[0m \u001b[38;5;28;01mwhile\u001b[39;00m(cap\u001b[38;5;241m.\u001b[39misOpened()):\n\u001b[0;32m      9\u001b[0m     ret,frame\u001b[38;5;241m=\u001b[39mcap\u001b[38;5;241m.\u001b[39mread() \n\u001b[1;32m---> 10\u001b[0m     frame\u001b[38;5;241m=\u001b[39m\u001b[43mcv2\u001b[49m\u001b[38;5;241;43m.\u001b[39;49m\u001b[43mresize\u001b[49m\u001b[43m(\u001b[49m\u001b[43mframe\u001b[49m\u001b[43m,\u001b[49m\u001b[43m(\u001b[49m\u001b[38;5;241;43m900\u001b[39;49m\u001b[43m,\u001b[49m\u001b[38;5;241;43m500\u001b[39;49m\u001b[43m)\u001b[49m\u001b[43m)\u001b[49m\n\u001b[0;32m     11\u001b[0m     fgmask\u001b[38;5;241m=\u001b[39mfgbg\u001b[38;5;241m.\u001b[39mapply(frame)\n\u001b[0;32m     13\u001b[0m \u001b[38;5;66;03m#------------------------------------------------------BINARIZATION----------------------------------------------------------------------------\u001b[39;00m\n",
      "\u001b[1;31merror\u001b[0m: OpenCV(4.8.0) D:\\a\\opencv-python\\opencv-python\\opencv\\modules\\imgproc\\src\\resize.cpp:4062: error: (-215:Assertion failed) !ssize.empty() in function 'cv::resize'\n"
     ]
    }
   ],
   "source": [
    "import cv2\n",
    "import numpy as np\n",
    "import time\n",
    "\n",
    "#---------------------------------------------------VARIABLE DECLARATIONS-------------------------------------------------------------------------------\n",
    "cap=cv2.VideoCapture(r\"C:\\Users\\SAGNIK\\Desktop\\PBL\\Traffic\\video.mp4\")\n",
    "fgbg=cv2.createBackgroundSubtractorMOG2(detectShadows=False,history=200,varThreshold = 90)\n",
    "while(cap.isOpened()):\n",
    "    ret,frame=cap.read() \n",
    "    frame=cv2.resize(frame,(900,500))\n",
    "    fgmask=fgbg.apply(frame)\n",
    "\n",
    "#------------------------------------------------------BINARIZATION----------------------------------------------------------------------------\n",
    "    if ret==True:\n",
    "        ret,imBin=cv2.threshold(fgmask,200,255,cv2.THRESH_BINARY)\n",
    "        cv2.imshow('Thresholding',imBin)\n",
    "        k = cv2.waitKey(30) & 0xff\n",
    "        if k == 27:\n",
    "            break\n",
    "    \n",
    "\n",
    "cap.release()\n",
    "cv2.destroyAllWindows()"
   ]
  },
  {
   "cell_type": "code",
   "execution_count": null,
   "id": "4a9f2600-ed6b-4c81-8b64-a8bbc50c6086",
   "metadata": {},
   "outputs": [],
   "source": []
  }
 ],
 "metadata": {
  "kernelspec": {
   "display_name": "Python 3 (ipykernel)",
   "language": "python",
   "name": "python3"
  },
  "language_info": {
   "codemirror_mode": {
    "name": "ipython",
    "version": 3
   },
   "file_extension": ".py",
   "mimetype": "text/x-python",
   "name": "python",
   "nbconvert_exporter": "python",
   "pygments_lexer": "ipython3",
   "version": "3.11.4"
  }
 },
 "nbformat": 4,
 "nbformat_minor": 5
}
